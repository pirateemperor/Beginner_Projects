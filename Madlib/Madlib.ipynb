{
  "cells": [
    {
      "cell_type": "code",
      "source": [
        "# youtuber = \"swami\"\n",
        "\n",
        "# # print(\"subscribe to \" + youtuber)\n",
        "# print(f\"subscribe to {youtuber}\")"
      ],
      "metadata": {
        "id": "CDANNsuYLIu7",
        "outputId": "22f95908-9cdc-46c6-e353-93a88c9b4d60",
        "colab": {
          "base_uri": "https://localhost:8080/"
        }
      },
      "execution_count": 2,
      "outputs": [
        {
          "output_type": "stream",
          "name": "stdout",
          "text": [
            "subscribe to swami\n",
            "subscribe to swami\n"
          ]
        }
      ]
    },
    {
      "cell_type": "code",
      "source": [
        "adj = input(\"Adjective\")\n",
        "verb1 = input(\"verb: \")\n",
        "verb2 = input(\"verb: \")\n",
        "famous_person = input(\"famous person: \")\n",
        "\n",
        "madlib= f\"computer programming is so {adj}! It makes me so excited all the time because \\\n",
        "I love to {verb1}. Stay hydrated and {verb2} like you are {famous_person}!\"\n"
      ],
      "metadata": {
        "id": "TV9Cfi8ZMU0N",
        "outputId": "17507eca-edcd-4b63-ea17-ae8042db60f5",
        "colab": {
          "base_uri": "https://localhost:8080/"
        }
      },
      "execution_count": 4,
      "outputs": [
        {
          "name": "stdout",
          "output_type": "stream",
          "text": [
            "Adjectivefun\n",
            "verb: code\n",
            "verb: cool\n",
            "famous person: taylor swift\n"
          ]
        }
      ]
    },
    {
      "cell_type": "code",
      "source": [
        "print(madlib)"
      ],
      "metadata": {
        "id": "p4_x7T5ANQl1",
        "outputId": "f128d7bd-0002-438e-dce2-59413dbb1a6f",
        "colab": {
          "base_uri": "https://localhost:8080/"
        }
      },
      "execution_count": 5,
      "outputs": [
        {
          "output_type": "stream",
          "name": "stdout",
          "text": [
            "computer programming is so fun! It maakes me so excited all the time because I love to code. Stay hydrated and cool like you are taylor swift!\n"
          ]
        }
      ]
    },
    {
      "cell_type": "code",
      "source": [],
      "metadata": {
        "id": "qch0tplgN3DH"
      },
      "execution_count": null,
      "outputs": []
    }
  ],
  "metadata": {
    "colab": {
      "name": "Welcome To Colaboratory",
      "provenance": []
    },
    "kernelspec": {
      "display_name": "Python 3",
      "name": "python3"
    }
  },
  "nbformat": 4,
  "nbformat_minor": 0
}