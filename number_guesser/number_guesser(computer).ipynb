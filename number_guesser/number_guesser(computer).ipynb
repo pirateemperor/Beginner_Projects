{
  "nbformat": 4,
  "nbformat_minor": 0,
  "metadata": {
    "colab": {
      "provenance": []
    },
    "kernelspec": {
      "name": "python3",
      "display_name": "Python 3"
    },
    "language_info": {
      "name": "python"
    }
  },
  "cells": [
    {
      "cell_type": "code",
      "source": [
        "def guess(num: int)-> int:\n",
        "  lo = 1\n",
        "  hi = 100\n",
        "\n",
        "  while(1):\n",
        "    gnum = (hi+lo)//2\n",
        "    resp = input(f\"is {gnum} too high (H),too low (L), or Correct(C)\")\n",
        "    if(resp=='C'):\n",
        "      return gnum\n",
        "    elif resp== 'H':\n",
        "      hi=gnum-1\n",
        "    elif resp=='L':\n",
        "      lo=gnum+1\n"
      ],
      "metadata": {
        "id": "CHabwd2AgFnm"
      },
      "execution_count": 7,
      "outputs": []
    },
    {
      "cell_type": "code",
      "execution_count": 9,
      "metadata": {
        "colab": {
          "base_uri": "https://localhost:8080/"
        },
        "id": "geuxSAzvfdDT",
        "outputId": "330251ad-d4ab-49d1-8370-f70ebdb25ec4"
      },
      "outputs": [
        {
          "output_type": "stream",
          "name": "stdout",
          "text": [
            "welcome to number guesser program!\n",
            "#######################################\n",
            "please enter the number between 1 and 100 you want me to guess.87\n",
            "is 50 too high (H),too low (L), or Correct(C)L\n",
            "is 75 too high (H),too low (L), or Correct(C)L\n",
            "is 88 too high (H),too low (L), or Correct(C)H\n",
            "is 81 too high (H),too low (L), or Correct(C)L\n",
            "is 84 too high (H),too low (L), or Correct(C)L\n",
            "is 86 too high (H),too low (L), or Correct(C)L\n",
            "is 87 too high (H),too low (L), or Correct(C)C\n",
            "the number is 87\n"
          ]
        }
      ],
      "source": [
        "print(\"welcome to number guesser program!\")\n",
        "print(\"#######################################\")\n",
        "\n",
        "num = int(input(\"please enter the number between 1 and 100 you want me to guess.\"))\n",
        "if num < 0 or num > 100:\n",
        "  print(\"wrong input!\")\n",
        "  exit()\n",
        "\n",
        "guessed_num = guess(num)\n",
        "print(f\"the number is {guessed_num}\")"
      ]
    },
    {
      "cell_type": "code",
      "source": [],
      "metadata": {
        "id": "88uCSCScf1vh"
      },
      "execution_count": null,
      "outputs": []
    }
  ]
}