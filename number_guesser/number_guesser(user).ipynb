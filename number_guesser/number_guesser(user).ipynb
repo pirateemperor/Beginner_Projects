{
  "nbformat": 4,
  "nbformat_minor": 0,
  "metadata": {
    "colab": {
      "provenance": []
    },
    "kernelspec": {
      "name": "python3",
      "display_name": "Python 3"
    },
    "language_info": {
      "name": "python"
    }
  },
  "cells": [
    {
      "cell_type": "code",
      "source": [
        "import random\n",
        "\n",
        "def guess(x):\n",
        "  random_number = random.randint(1,x)\n",
        "  guess = 0\n",
        "  while guess!= random_number:\n",
        "    guess = int(input(f\"guess a number between 1 and {x}\"))\n",
        "    if guess > random_number:\n",
        "      print(f\"the number {guess} is too high!\")\n",
        "    elif guess < random_number:\n",
        "      print(f\"the number {guess} is too low\")\n",
        "      continue\n",
        "  print(\"congratulations you found it.\")\n",
        "  print(f\"the number is {random_number}\")\n",
        "\n",
        "\n",
        ""
      ],
      "metadata": {
        "id": "CHabwd2AgFnm"
      },
      "execution_count": 15,
      "outputs": []
    },
    {
      "cell_type": "code",
      "source": [
        " guess(10)\n",
        ""
      ],
      "metadata": {
        "colab": {
          "base_uri": "https://localhost:8080/"
        },
        "id": "88uCSCScf1vh",
        "outputId": "e11db772-ed0f-4a6a-b867-56aa3f175204"
      },
      "execution_count": 17,
      "outputs": [
        {
          "output_type": "stream",
          "name": "stdout",
          "text": [
            "guess a number between 1 and 102\n",
            "the number 2 is too low\n",
            "guess a number between 1 and 104\n",
            "the number 4 is too low\n",
            "guess a number between 1 and 106\n",
            "congratulations you found it.\n",
            "the number is 6\n"
          ]
        }
      ]
    }
  ]
}