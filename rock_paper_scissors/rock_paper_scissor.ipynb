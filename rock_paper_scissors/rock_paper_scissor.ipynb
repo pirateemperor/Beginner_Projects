{
  "nbformat": 4,
  "nbformat_minor": 0,
  "metadata": {
    "colab": {
      "provenance": []
    },
    "kernelspec": {
      "name": "python3",
      "display_name": "Python 3"
    },
    "language_info": {
      "name": "python"
    }
  },
  "cells": [
    {
      "cell_type": "code",
      "execution_count": 6,
      "metadata": {
        "id": "D-98iK6rm1jP"
      },
      "outputs": [],
      "source": [
        "\n",
        "import random as rd\n",
        "\n",
        "def game ():\n",
        "  usr = str(input(\"whats your choice\"))\n",
        "  choices= [\"r\",\"p\",\"c\"]\n",
        "  cpu = rd.choice(choices)\n",
        "\n",
        "  if usr ==  \"r\":\n",
        "    if cpu == \"p\":\n",
        "      print(\"you lost!\")\n",
        "    elif cpu == \"r\":\n",
        "      print(\"its a draw!\")\n",
        "    else:\n",
        "      print(\"you won!\")\n",
        "  elif usr == \"p\":\n",
        "     if cpu == \"s\":\n",
        "      print(\"you lost!\")\n",
        "     elif cpu == \"p\":\n",
        "      print(\"its a draw!\")\n",
        "     else:\n",
        "      print(\"you won!\")\n",
        "  elif usr == \"s\":\n",
        "     if cpu == \"r\":\n",
        "        print(\"you lost!\")\n",
        "     elif cpu == \"s\":\n",
        "        print(\"its a draw!\")\n",
        "     else:\n",
        "        print(\"you won!\")\n"
      ]
    },
    {
      "cell_type": "code",
      "source": [
        "print(\"this is a game of rock paper and scissors\")\n",
        "game()"
      ],
      "metadata": {
        "colab": {
          "base_uri": "https://localhost:8080/"
        },
        "id": "1DVVlLXZnOd4",
        "outputId": "1374363f-4f64-4227-a2e6-1ff5a0b41b36"
      },
      "execution_count": 10,
      "outputs": [
        {
          "output_type": "stream",
          "name": "stdout",
          "text": [
            "this is a game of rock paper and scissors\n",
            "whats your choicer\n",
            "you won!\n"
          ]
        }
      ]
    },
    {
      "cell_type": "code",
      "source": [
        "\n"
      ],
      "metadata": {
        "colab": {
          "base_uri": "https://localhost:8080/"
        },
        "id": "f9_5mcOopopu",
        "outputId": "e66245d1-20b3-4e50-dde2-d1874d834bc1"
      },
      "execution_count": 3,
      "outputs": [
        {
          "output_type": "stream",
          "name": "stderr",
          "text": [
            "UsageError: Cell magic `%%lprun` not found.\n"
          ]
        }
      ]
    },
    {
      "cell_type": "code",
      "source": [],
      "metadata": {
        "id": "vBMfYDt7ppWK"
      },
      "execution_count": null,
      "outputs": []
    }
  ]
}